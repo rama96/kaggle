{
 "cells": [
  {
   "cell_type": "code",
   "execution_count": null,
   "metadata": {},
   "outputs": [],
   "source": [
    "# install fastkaggle if not available\n",
    "try: import fastkaggle\n",
    "except ModuleNotFoundError:\n",
    "    !pip install -Uq fastkaggle\n",
    "\n",
    "from fastkaggle import *"
   ]
  },
  {
   "cell_type": "code",
   "execution_count": null,
   "metadata": {},
   "outputs": [],
   "source": [
    "from pathlib import Path\n",
    "import os\n",
    "\n",
    "my_file= os.path.abspath(os.sep)\n",
    "dir = os.path.join(my_file,\"Downloads\")\n",
    "print(dir)\n",
    "if os.path.isdir(dir):\n",
    "    print(\"Direct\")\n",
    "else : \n",
    "    print(\"not\")\n",
    "# [x[0] for x in os.walk(my_file)]\n",
    "\n",
    "# if os.path.isfile(my_file):\n",
    "#     print(\"Kaggle json present\")\n",
    "#     # file exists\n",
    "#     pass \n",
    "# else :\n",
    "#     print(\"File does not exist\")\n",
    "  "
   ]
  },
  {
   "cell_type": "code",
   "execution_count": null,
   "metadata": {},
   "outputs": [],
   "source": [
    "def setup_kaggle():\n",
    "  \n",
    "    !mkdir ~/.kaggle\n",
    "  \n",
    "\n",
    "    # api_token = {\"username\":\"username\",\"key\":\"api-key\"}\n",
    "\n",
    "  \n",
    "    import json\n",
    "  \n",
    "    print(\"File does not exist\")\n",
    "    !touch ~/.kaggle/kaggle.json\n",
    "    username = input(\"Enter username : \")\n",
    "    key = input(\"Enter Key : \")\n",
    "    api_token = {\"username\":username,\"key\":key}\n",
    "\n",
    "    with open('~/.kaggle/kaggle.json', 'w') as file:\n",
    "        json.dump(api_token, file)\n",
    "        !chmod 600 ~/.kaggle/kaggle.json\n",
    "\n",
    "  \n",
    "\n",
    "if iskaggle:\n",
    "    pass\n",
    "else :\n",
    "    setup_kaggle()\n",
    "\n",
    "from IPython.display import clear_output\n",
    "clear_output(wait=False)\n"
   ]
  },
  {
   "cell_type": "code",
   "execution_count": null,
   "metadata": {},
   "outputs": [],
   "source": [
    "comp = 'paddy-disease-classification'\n",
    "\n",
    "path = setup_comp(comp, install='fastai \"timm>=0.6.2.dev0\"')"
   ]
  },
  {
   "cell_type": "code",
   "execution_count": null,
   "metadata": {},
   "outputs": [],
   "source": []
  }
 ],
 "metadata": {
  "kernelspec": {
   "display_name": "Python 3.9.7 ('env': venv)",
   "language": "python",
   "name": "python3"
  },
  "language_info": {
   "codemirror_mode": {
    "name": "ipython",
    "version": 3
   },
   "file_extension": ".py",
   "mimetype": "text/x-python",
   "name": "python",
   "nbconvert_exporter": "python",
   "pygments_lexer": "ipython3",
   "version": "3.9.7"
  },
  "orig_nbformat": 4,
  "vscode": {
   "interpreter": {
    "hash": "a5f093284c100922e0e2afad007025e044c3c6482e7b1d93b7e2e29ddff05fb7"
   }
  }
 },
 "nbformat": 4,
 "nbformat_minor": 2
}
